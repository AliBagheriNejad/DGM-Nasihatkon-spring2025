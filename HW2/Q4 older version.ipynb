{
 "cells": [
  {
   "cell_type": "code",
   "execution_count": 2,
   "metadata": {},
   "outputs": [],
   "source": [
    "import numpy as np\n",
    "import matplotlib.pyplot as plt\n",
    "import os \n",
    "from tqdm import trange\n",
    "import pickle"
   ]
  },
  {
   "cell_type": "code",
   "execution_count": null,
   "metadata": {},
   "outputs": [],
   "source": [
    "# fix the loss calculation in trainer"
   ]
  },
  {
   "cell_type": "code",
   "execution_count": 4,
   "metadata": {},
   "outputs": [],
   "source": [
    "import torch\n",
    "from torch.utils.data import DataLoader, TensorDataset\n",
    "import torch.nn as nn\n",
    "import torch.optim as optim\n",
    "\n",
    "device = torch.device('cpu')"
   ]
  },
  {
   "cell_type": "code",
   "execution_count": 5,
   "metadata": {},
   "outputs": [],
   "source": [
    "class BayesianNetwork(nn.Module):\n",
    "    def __init__(self, margin:int=3, positional:bool=True,num_layer:int=1, activation:str='relu' ):\n",
    "        super().__init__()\n",
    "        self.margin = margin\n",
    "        self.po = positional\n",
    "        self.num_layer = num_layer\n",
    "        self.find_input_dim()\n",
    "        self.activation = activation\n",
    "\n",
    "        self.model = self.select_model()\n",
    "\n",
    "\n",
    "\n",
    "        \n",
    "        if self.num_layer not in [1,2]:\n",
    "            raise ValueError('Only networks with one or two layers are valid')\n",
    "    \n",
    "    def forward(self, x):\n",
    "        x = self.model(x)\n",
    "        return x\n",
    "\n",
    "    def select_model(self):\n",
    "        \n",
    "        if self.num_layer == 1:\n",
    "            return self.one_layer_net()\n",
    "        elif self.num_layer == 2:\n",
    "            return self.two_layer_net()\n",
    "\n",
    "    \n",
    "    def one_layer_net(self):\n",
    "        model = nn.Sequential(\n",
    "                nn.Linear(self.input_dim, 1),\n",
    "                nn.Sigmoid()\n",
    "        )\n",
    "        return model\n",
    "    \n",
    "    def two_layer_net(self):\n",
    "        model = nn.Sequential(\n",
    "                nn.Linear(self.input_dim, 40),\n",
    "                self.select_activation(),\n",
    "                nn.Linear(40, 1),\n",
    "                nn.Sigmoid()\n",
    "        )\n",
    "        return model\n",
    "    \n",
    "    def select_activation(self):\n",
    "        if self.activation == 'relu':\n",
    "            return nn.ReLU()\n",
    "        elif self.activation == 'silu':\n",
    "            return nn.SiLU()\n",
    "        elif self.activation not in ['relu', 'silu']:\n",
    "            raise ValueError('Only relu and silu activation function are valid')\n",
    "\n",
    "    def find_input_dim(self):\n",
    "        if self.po:\n",
    "            self.input_dim = (self.margin+1)**2 + 1\n",
    "        elif not self.po:\n",
    "            self.input_dim = (self.margin+1)**2 - 1\n",
    "\n",
    "    def sample(self,test_im):\n",
    "        blank = np.zeros(shape=(test_im.shape[0]+self.margin, test_im.shape[1]+self.margin))\n",
    "        idx = np.arange(self.margin,blank.shape[0])\n",
    "        for i in idx:\n",
    "            for j in idx:\n",
    "                x,_ = xy_of_image(\n",
    "                    test_im.shape[0],\n",
    "                    blank,\n",
    "                    i, \n",
    "                    j, \n",
    "                    self.margin,\n",
    "                    self.po\n",
    "                )\n",
    "                x_tensor,_ = model_input(x,x)\n",
    "                y_hat = self(x_tensor)\n",
    "                blank[i, j] = y_hat.cpu().detach().numpy()\n",
    "        return blank\n",
    "\n",
    "class SingleNLLLoss(nn.Module):\n",
    "    def __init__(self):\n",
    "        super().__init__()\n",
    "\n",
    "    def forward(self, predictions, targets):\n",
    "        predictions = torch.clamp(predictions, min=1e-7, max=1-1e-7)\n",
    "        loss = -torch.mean(targets * torch.log(predictions) + (1 - targets) * torch.log(1 - predictions))\n",
    "        return loss\n"
   ]
  },
  {
   "cell_type": "code",
   "execution_count": 17,
   "metadata": {},
   "outputs": [],
   "source": [
    "import imageio.v2 as imageio\n",
    "\n",
    "def xy_of_image(im_size:int, image:np.ndarray, i:int, j:int, margin:int=1, positional:bool=True ) -> tuple[np.ndarray, np.ndarray]:\n",
    "    '''Extract X (parents) of a pixel (y)'''\n",
    "    x = image[i-margin:i+1, j-margin:j+1].flatten()\n",
    "    y = x[-1]\n",
    "    x = x[:-1]\n",
    "    if positional:\n",
    "        ax_y = (i-margin)/im_size\n",
    "        ax_x = (j-margin)/im_size            \n",
    "        x = np.append(x, [ax_x, ax_y])\n",
    "    return x,y\n",
    "\n",
    "\n",
    "def image_to_xy(path:str, margin:int=3, positional:bool=True) -> tuple[np.ndarray, np.ndarray]:\n",
    "    '''Turns an image into training data (path -> read image -> X, y matrices)'''\n",
    "    image = imageio.imread(path) \n",
    "\n",
    "    X, Y = image2xy(image, margin, positional)\n",
    "\n",
    "    return X, Y\n",
    "\n",
    "def image2xy(image:np.ndarray, margin:int=3, positional:bool=True, return_blank:bool=False) -> tuple[np.ndarray, np.ndarray]:\n",
    "    '''Turns an image into training data (image -> X, y matrices)'''\n",
    "    shape_im = image.shape\n",
    "    new_im = np.zeros(shape=(shape_im[0]+margin, shape_im[1]+margin))\n",
    "    new_im[margin:, margin:] = image\n",
    "\n",
    "    idx = np.arange(margin,new_im.shape[0])\n",
    "    idx_size = idx.shape[0]\n",
    "\n",
    "    X_list = []\n",
    "    y_list = []\n",
    "\n",
    "    for i in idx:\n",
    "        for j in idx:\n",
    "            x, y = xy_of_image(idx_size, new_im, i, j, margin, positional)\n",
    "            X_list.append(x)\n",
    "            y_list.append(y)\n",
    "\n",
    "    X = np.array(X_list)\n",
    "    Y = np.array(y_list)\n",
    "    if not return_blank:\n",
    "        return X,Y\n",
    "    else:\n",
    "        return X, Y, new_im\n",
    "\n",
    "\n",
    "def create_dataset(f_names:list, f_label:list, margin:int=1, positional:bool=True) -> tuple[np.ndarray, np.ndarray]:\n",
    "    '''Create dataset for given image paths'''\n",
    "    X = np.zeros(shape=(len(f_label)*400, (margin+1)**2+1 if positional else (margin+1)**2 -1))\n",
    "    Y = np.zeros(shape=(len(f_label)*400,))\n",
    "\n",
    "    for i in trange(len(f_label)):\n",
    "        f_dir = os.path.join(small_dir, f_label[i], f_names[i])\n",
    "        x, y = image_to_xy(f_dir, margin, positional)\n",
    "        X[i*400:(i+1)*400,:] = x\n",
    "        Y[i*400:(i+1)*400] = y\n",
    "    return X, Y\n",
    "\n",
    "def train_model(model, train_loader, val_loader=None, n_jobs=None, epochs=5, device=device):\n",
    "\n",
    "    model.model.to(device)\n",
    "    if n_jobs:\n",
    "        torch.set_num_threads(n_jobs)  # Set number of threads to be used\n",
    "\n",
    "    # Use CrossEntropyLoss for classification tasks\n",
    "    criterion = SingleNLLLoss()\n",
    "    optimizer = optim.SGD(model.parameters(), lr=0.01)\n",
    "\n",
    "    train_loss_list = []\n",
    "    train_iteration_loss_list = []\n",
    "    val_loss_list = []\n",
    "\n",
    "    try:\n",
    "        for epoch in range(epochs):\n",
    "            model.train()\n",
    "            train_loss = 0\n",
    "\n",
    "            # Train loop\n",
    "            pbar = trange(len(train_loader), desc=f'Epoch {epoch+1}/{epochs}')\n",
    "            train_iter = iter(train_loader)\n",
    "            for i in pbar:\n",
    "                X_batch, y_batch = next(train_iter)\n",
    "                X_batch = X_batch.to(device)\n",
    "                y_batch = y_batch.to(device)\n",
    "\n",
    "                y_batch_hat = model(X_batch)\n",
    "                loss = criterion(y_batch_hat, y_batch)\n",
    "                optimizer.zero_grad()\n",
    "                loss.backward()\n",
    "                optimizer.step()\n",
    "\n",
    "                t_loss = loss.item()\n",
    "                t_loss /= len(y_batch)\n",
    "                train_iteration_loss_list.append(t_loss)\n",
    "                pbar.set_postfix_str(f'train loss: {sum(train_iteration_loss_list) / (i + 1):.4f}')\n",
    "\n",
    "            t_loss /= len(train_loader)\n",
    "            train_loss_list.append(t_loss)\n",
    "\n",
    "            if val_loader:\n",
    "                # Validation loop\n",
    "                model.eval()\n",
    "                with torch.no_grad():\n",
    "                    v_loss = 0\n",
    "                    val_iter = iter(val_loader)\n",
    "                    for _ in val_iter:\n",
    "                        X_val, y_val = next(val_iter)\n",
    "                        X_val = X_val.to(device)\n",
    "                        y_val = y_val.to(device)\n",
    "\n",
    "                        y_val_hat = model(X_val)\n",
    "                        loss = criterion(y_val_hat, y_val)\n",
    "                        v_loss += loss.item()\n",
    "\n",
    "                    val_loss_list.append(v_loss / len(val_loader))\n",
    "                print(f'Validation Loss: {val_loss_list[-1]:.4f}')\n",
    "\n",
    "            # generate image\n",
    "            gen_im = model.sample(np.zeros(shape=(20,20)))\n",
    "            plt.figure()\n",
    "            plt.imshow(gen_im)\n",
    "            plt.title('Generated image')\n",
    "            plt.show()\n",
    "\n",
    "        return train_loss_list, val_loss_list, train_iteration_loss_list\n",
    "\n",
    "    except KeyboardInterrupt:\n",
    "        print('\\n\\n!!!!!!!! Training has been stopped !!!!!!!!')\n",
    "        return train_loss_list, val_loss_list, train_iteration_loss_list\n",
    "\n",
    "\n",
    "def model_input(x=None, y=None):\n",
    "    '''Prepare data for model'''\n",
    "    x_tensor = torch.tensor(x, dtype=torch.float32)\n",
    "    y_tensor = torch.tensor(y/255, dtype=torch.long)\n",
    "    return x_tensor, y_tensor"
   ]
  },
  {
   "cell_type": "markdown",
   "metadata": {},
   "source": [
    "## Work with data"
   ]
  },
  {
   "cell_type": "code",
   "execution_count": 7,
   "metadata": {},
   "outputs": [],
   "source": [
    "small_dir = r'Data\\small'\n",
    "mid_dir = r'Data\\mid'\n",
    "big_dir = r'Data\\big'\n",
    "\n",
    "s_folders = os.listdir(small_dir)\n",
    "m_folders = os.listdir(mid_dir)\n",
    "b_folders = os.listdir(big_dir)"
   ]
  },
  {
   "cell_type": "markdown",
   "metadata": {},
   "source": [
    "Read all file names"
   ]
  },
  {
   "cell_type": "code",
   "execution_count": 8,
   "metadata": {},
   "outputs": [],
   "source": [
    "f_names = []\n",
    "f_label = []\n",
    "\n",
    "for root, dirs, files in os.walk(small_dir):\n",
    "\n",
    "    if len(root.split(\"\\\\\")) == 3:\n",
    "        label = root.split('\\\\')[-1]\n",
    "        for f in files:\n",
    "            f_names.append(f)\n",
    "            f_label.append(label)\n"
   ]
  },
  {
   "cell_type": "markdown",
   "metadata": {},
   "source": [
    "splitting the data into train, validation and test"
   ]
  },
  {
   "cell_type": "code",
   "execution_count": 9,
   "metadata": {},
   "outputs": [],
   "source": [
    "from sklearn.model_selection import train_test_split"
   ]
  },
  {
   "cell_type": "code",
   "execution_count": 10,
   "metadata": {},
   "outputs": [],
   "source": [
    "f_train, f_test, l_train, l_test = train_test_split(\n",
    "    f_names,\n",
    "    f_label,\n",
    "    test_size = 0.1,\n",
    "    shuffle = True,\n",
    "    random_state = 69\n",
    ")\n",
    "\n",
    "f_train, f_val, l_train, l_val = train_test_split(\n",
    "    f_train,\n",
    "    l_train,\n",
    "    test_size = 0.111,\n",
    "    shuffle = True,\n",
    "    random_state = 69\n",
    ")"
   ]
  },
  {
   "cell_type": "markdown",
   "metadata": {},
   "source": [
    "Read images to create trainnig data"
   ]
  },
  {
   "cell_type": "code",
   "execution_count": 11,
   "metadata": {},
   "outputs": [
    {
     "name": "stdout",
     "output_type": "stream",
     "text": [
      "Create Validation dataset\n"
     ]
    },
    {
     "name": "stderr",
     "output_type": "stream",
     "text": [
      "100%|██████████| 1305/1305 [00:20<00:00, 65.17it/s] \n"
     ]
    }
   ],
   "source": [
    "MARGIN = 1\n",
    "POSITIONAL = True\n",
    "\n",
    "# print('Create Train dataset')\n",
    "# X_train, y_train = create_dataset(f_train, l_train, MARGIN, POSITIONAL)\n",
    "print('Create Validation dataset')\n",
    "X_val, y_val = create_dataset(f_val, l_val, MARGIN, POSITIONAL)\n",
    "X_train, y_train = X_val.copy(), y_val.copy()"
   ]
  },
  {
   "cell_type": "code",
   "execution_count": 12,
   "metadata": {},
   "outputs": [],
   "source": [
    "from sklearn.preprocessing import MinMaxScaler, OneHotEncoder"
   ]
  },
  {
   "cell_type": "code",
   "execution_count": 13,
   "metadata": {},
   "outputs": [],
   "source": [
    "scaler = MinMaxScaler()\n",
    "\n",
    "X_train_scaled = scaler.fit_transform(X_train)\n",
    "X_val_scaled = scaler.transform(X_val)\n",
    "\n",
    "with open(\"scaler.pkl\", \"wb\") as f:\n",
    "    pickle.dump(scaler, f) \n",
    "\n",
    "# with open(\"scaler.pkl\", \"rb\") as f:\n",
    "#     loaded_scaler = pickle.load(f)"
   ]
  },
  {
   "cell_type": "code",
   "execution_count": 14,
   "metadata": {},
   "outputs": [],
   "source": [
    "# train_tensor = TensorDataset(X_train, y_train)\n",
    "# train_loader = DataLoader(train_tensor, batch_size=256, shuffle=True)\n",
    "# val_tensor = TensorDataset(X_val, y_val)\n",
    "# X_val_tensor = torch.tensor(X_val, dtype=torch.float32)\n",
    "# y_val_tensor = torch.tensor(y_val/255, dtype=torch.long)\n",
    "X_val_tensor, y_val_tensor = model_input(X_val, y_val)\n",
    "val_tensor = TensorDataset(X_val_tensor, y_val_tensor)\n",
    "val_loader = DataLoader(val_tensor, shuffle=False, batch_size=2**14)\n",
    "train_loader = DataLoader(val_tensor, batch_size=2048, shuffle=True)"
   ]
  },
  {
   "cell_type": "markdown",
   "metadata": {},
   "source": [
    "## Model"
   ]
  },
  {
   "cell_type": "code",
   "execution_count": 40,
   "metadata": {},
   "outputs": [],
   "source": [
    "ACTIVATION = 'relu'\n",
    "\n",
    "single_layer_model = BayesianNetwork(1, True, num_layer=1).to(device)    \n",
    "double_layer_model = BayesianNetwork(1, True, num_layer=2, activation=ACTIVATION).to(device)\n",
    "random_weights = single_layer_model.state_dict()['model.0.weight'].cpu().detach().numpy()"
   ]
  },
  {
   "cell_type": "code",
   "execution_count": 42,
   "metadata": {},
   "outputs": [
    {
     "name": "stdout",
     "output_type": "stream",
     "text": [
      "[[ 0.19181561  0.20017588  0.42278808 -0.0455893  -0.08717257]]\n"
     ]
    },
    {
     "name": "stderr",
     "output_type": "stream",
     "text": [
      "C:\\Users\\HAMI-PARS\\AppData\\Local\\Temp\\ipykernel_13700\\1757037348.py:75: DeprecationWarning: Conversion of an array with ndim > 0 to a scalar is deprecated, and will error in future. Ensure you extract a single element from your array before performing this operation. (Deprecated NumPy 1.25.)\n",
      "  blank[i, j] = y_hat.cpu().detach().numpy()\n"
     ]
    },
    {
     "data": {
      "image/png": "[encoded data removed]",
      "text/plain": [
       "<Figure size 640x480 with 1 Axes>"
      ]
     },
     "metadata": {},
     "output_type": "display_data"
    },
    {
     "name": "stderr",
     "output_type": "stream",
     "text": [
      "Epoch 1/2: 100%|██████████| 255/255 [00:09<00:00, 26.42it/s, train loss: 0.0011]\n"
     ]
    },
    {
     "name": "stdout",
     "output_type": "stream",
     "text": [
      "Validation Loss: 1.0481\n"
     ]
    },
    {
     "data": {
      "image/png": "[encoded data removed]",
      "text/plain": [
       "<Figure size 640x480 with 1 Axes>"
      ]
     },
     "metadata": {},
     "output_type": "display_data"
    },
    {
     "name": "stderr",
     "output_type": "stream",
     "text": [
      "Epoch 2/2: 100%|██████████| 255/255 [00:09<00:00, 27.27it/s, train loss: 0.0021]\n"
     ]
    },
    {
     "name": "stdout",
     "output_type": "stream",
     "text": [
      "Validation Loss: 1.0137\n"
     ]
    },
    {
     "data": {
      "image/png": "[encoded data removed]",
      "text/plain": [
       "<Figure size 640x480 with 1 Axes>"
      ]
     },
     "metadata": {},
     "output_type": "display_data"
    },
    {
     "name": "stdout",
     "output_type": "stream",
     "text": [
      "[[ 0.19181561  0.20017588  0.42278808 -0.5084804  -0.54893225]]\n"
     ]
    }
   ],
   "source": [
    "print( single_layer_model.state_dict()['model.0.weight'].cpu().detach().numpy())\n",
    "plt.figure()\n",
    "plt.imshow(single_layer_model.sample(np.zeros(shape=(20,20))))\n",
    "plt.show()\n",
    "history = train_model(single_layer_model, train_loader, val_loader, epochs=2)\n",
    "print (single_layer_model.state_dict()['model.0.weight'].cpu().detach().numpy())"
   ]
  },
  {
   "cell_type": "code",
   "execution_count": 31,
   "metadata": {},
   "outputs": [
    {
     "name": "stdout",
     "output_type": "stream",
     "text": [
      "[[ 0.19935215 -0.41492853 -0.3528837  -0.38077888 -0.33583105]]\n",
      "[[ 0.19935215 -0.41492853 -0.3528837  -0.38077888 -0.33583105]]\n",
      "[[ 0.19935215 -0.41492853 -0.3528837  -0.38077888 -0.33583105]]\n"
     ]
    }
   ],
   "source": [
    "print(random_weights)\n",
    "print(pw)\n",
    "print(ow)"
   ]
  },
  {
   "cell_type": "code",
   "execution_count": 41,
   "metadata": {},
   "outputs": [
    {
     "name": "stdout",
     "output_type": "stream",
     "text": [
      "[[-0.3886811  -0.29149735  0.39299655 -0.4281664  -0.262541  ]\n",
      " [ 0.21847165 -0.01863155 -0.05706859 -0.40671566  0.30938554]\n",
      " [ 0.33391684  0.12099934  0.22853929 -0.41558906  0.07466239]\n",
      " [-0.12385789  0.31237382  0.08668828 -0.01442453  0.15208769]\n",
      " [ 0.0280731   0.08618283 -0.04881024 -0.3335593  -0.35042876]\n",
      " [-0.19169652  0.19323373 -0.10027483  0.29101986  0.22889543]\n",
      " [ 0.43633765 -0.13418788  0.02617696  0.08604193 -0.29778567]\n",
      " [ 0.40671712  0.4089347   0.00946411 -0.0736669   0.16758937]\n",
      " [ 0.40984797  0.07688171  0.2528146   0.16864038  0.06278026]\n",
      " [-0.3478979  -0.27799028  0.00338131 -0.35035583  0.01078647]\n",
      " [-0.01336789  0.13711894 -0.2526074   0.32224566 -0.33331332]\n",
      " [ 0.40594685 -0.36566636  0.11655009  0.32674682  0.06113559]\n",
      " [-0.3452462   0.07696503  0.17573708 -0.32036394 -0.34066105]\n",
      " [-0.08150768 -0.12384105  0.44232428 -0.04796785 -0.22977254]\n",
      " [-0.32105508  0.29614013  0.24100584 -0.17010894  0.2145108 ]\n",
      " [ 0.274714   -0.43319172  0.30829412 -0.00789624 -0.10085157]\n",
      " [-0.3805996  -0.1777179  -0.4340226   0.25082862  0.17440706]\n",
      " [-0.25662336  0.33835208 -0.25182688 -0.20290153 -0.41832167]\n",
      " [ 0.06923974 -0.2724012  -0.34662768 -0.05545387 -0.3776304 ]\n",
      " [-0.18332759 -0.04895008 -0.14614448  0.2556494  -0.36259308]\n",
      " [ 0.375516   -0.24684837 -0.2507426   0.26234472 -0.35238448]\n",
      " [-0.03690824 -0.11373416 -0.15777248 -0.0029406   0.3106355 ]\n",
      " [-0.22229415  0.01094592  0.30189455  0.24513763 -0.38943675]\n",
      " [-0.43631405 -0.19663528  0.3927582  -0.26891744  0.18883121]\n",
      " [ 0.21277225 -0.24108674  0.2710572  -0.27839443  0.34245443]\n",
      " [-0.01184469 -0.00289896 -0.43964967  0.44677162 -0.33909053]\n",
      " [-0.33840254  0.29042155 -0.16939151 -0.37778676  0.08936882]\n",
      " [ 0.10438353 -0.3449733  -0.21504995 -0.24670385  0.28868777]\n",
      " [ 0.06261373 -0.08174992  0.04450119  0.05053106  0.2178396 ]\n",
      " [-0.40800777  0.37622488  0.28944522  0.15086728 -0.27654925]\n",
      " [-0.04207596  0.42518955  0.3240376  -0.04241508 -0.33763313]\n",
      " [-0.18256283  0.2592628   0.2069009   0.0105029   0.34008092]\n",
      " [-0.34876108  0.30999112 -0.00911927 -0.37491792  0.1637932 ]\n",
      " [ 0.36339134 -0.3337428   0.13477552 -0.07379907  0.26220685]\n",
      " [-0.13057643 -0.33191714 -0.24129397  0.04803225  0.25659388]\n",
      " [-0.09165627 -0.10089612  0.25592345 -0.10721722 -0.40865338]\n",
      " [-0.00554582  0.1590808   0.13247675  0.15100503  0.18516797]\n",
      " [-0.22000642  0.43125427  0.31368017 -0.06728467  0.14202982]\n",
      " [ 0.4354468   0.19278002 -0.41903797  0.35261196  0.0672397 ]\n",
      " [ 0.16944206 -0.07594484 -0.29250816  0.30974633  0.12950474]]\n"
     ]
    },
    {
     "name": "stderr",
     "output_type": "stream",
     "text": [
      "C:\\Users\\HAMI-PARS\\AppData\\Local\\Temp\\ipykernel_13700\\1757037348.py:75: DeprecationWarning: Conversion of an array with ndim > 0 to a scalar is deprecated, and will error in future. Ensure you extract a single element from your array before performing this operation. (Deprecated NumPy 1.25.)\n",
      "  blank[i, j] = y_hat.cpu().detach().numpy()\n"
     ]
    },
    {
     "data": {
      "image/png": "[encoded data removed]",
      "text/plain": [
       "<Figure size 640x480 with 1 Axes>"
      ]
     },
     "metadata": {},
     "output_type": "display_data"
    },
    {
     "name": "stderr",
     "output_type": "stream",
     "text": [
      "Epoch 1/2: 100%|██████████| 255/255 [00:09<00:00, 26.39it/s, train loss: 0.0002]\n"
     ]
    },
    {
     "name": "stdout",
     "output_type": "stream",
     "text": [
      "Validation Loss: 0.2074\n"
     ]
    },
    {
     "data": {
      "image/png": "[encoded data removed]",
      "text/plain": [
       "<Figure size 640x480 with 1 Axes>"
      ]
     },
     "metadata": {},
     "output_type": "display_data"
    },
    {
     "name": "stderr",
     "output_type": "stream",
     "text": [
      "Epoch 2/2: 100%|██████████| 255/255 [00:09<00:00, 25.79it/s, train loss: 0.0004]\n"
     ]
    },
    {
     "name": "stdout",
     "output_type": "stream",
     "text": [
      "Validation Loss: 0.1981\n"
     ]
    },
    {
     "data": {
      "image/png": "[encoded data removed]",
      "text/plain": [
       "<Figure size 640x480 with 1 Axes>"
      ]
     },
     "metadata": {},
     "output_type": "display_data"
    },
    {
     "name": "stdout",
     "output_type": "stream",
     "text": [
      "[[-0.38785294 -0.29149735  0.39382473 -0.42535803 -0.25828648]\n",
      " [ 0.18545508 -0.01704147 -0.05328078 -0.3682733   0.34927416]\n",
      " [ 0.34055337  0.11658857  0.22585414 -0.42103496  0.06570479]\n",
      " [-0.12173156  0.31846386  0.08668828 -0.00186969  0.17453916]\n",
      " [ 0.03387865  0.08451505 -0.04881024 -0.33355722 -0.3504273 ]\n",
      " [-0.19462435  0.18541539 -0.10027483  0.2755653   0.21303178]\n",
      " [ 0.42735165 -0.13269413  0.02978282  0.08620708 -0.29780853]\n",
      " [ 0.3885851   0.40702564  0.00962528 -0.05716998  0.18470825]\n",
      " [ 0.4074432   0.07791736  0.2542844   0.16863513  0.06277532]\n",
      " [-0.3478979  -0.27799028  0.00338131 -0.35035583  0.01078647]\n",
      " [-0.01509692  0.13208468 -0.2526074   0.31993625 -0.33354294]\n",
      " [ 0.39538696 -0.36727506  0.11305271  0.3289014   0.06346615]\n",
      " [-0.3452462   0.07347582  0.17573708 -0.32037032 -0.34066904]\n",
      " [-0.07555451 -0.12384105  0.44827744 -0.04795491 -0.22975913]\n",
      " [-0.32105508  0.2947672   0.24100584 -0.17011145  0.21450764]\n",
      " [ 0.24866463 -0.43319172  0.30894572  0.01754476 -0.0744566 ]\n",
      " [-0.3805996  -0.1777179  -0.4340226   0.25048244  0.17407598]\n",
      " [-0.25770333  0.33516738 -0.25182688 -0.20348623 -0.4185747 ]\n",
      " [ 0.04863086 -0.2724012  -0.34662768 -0.05550201 -0.3776802 ]\n",
      " [-0.18332759 -0.04895008 -0.14614448  0.3050515  -0.3114    ]\n",
      " [ 0.39588532 -0.249128   -0.25572953  0.238143   -0.3671859 ]\n",
      " [-0.03690824 -0.11373416 -0.15777248 -0.0029406   0.3106355 ]\n",
      " [-0.21726084  0.01514581  0.30692786  0.27860516 -0.3647719 ]\n",
      " [-0.43631405 -0.19663528  0.3927582  -0.28049603  0.1732662 ]\n",
      " [ 0.20556264 -0.24108674  0.26749787 -0.27803516  0.3429339 ]\n",
      " [-0.01184469 -0.00289896 -0.43964967  0.46573967 -0.31931517]\n",
      " [-0.33840254  0.28663757 -0.16939151 -0.38790056  0.07518726]\n",
      " [ 0.08796131 -0.3449733  -0.21504995 -0.23158938  0.30439317]\n",
      " [ 0.04980852 -0.08174992  0.04413766  0.06146401  0.22921877]\n",
      " [-0.40800777  0.37830764  0.28944522  0.1828531  -0.24339858]\n",
      " [-0.04388933  0.4224706   0.3231155  -0.04242209 -0.33764133]\n",
      " [-0.17714985  0.2634612   0.21083888  0.06756119  0.39928383]\n",
      " [-0.34876108  0.30791432 -0.00911927 -0.37722948  0.15845169]\n",
      " [ 0.39007187 -0.33631745  0.12902333 -0.07373463  0.26227283]\n",
      " [-0.13057643 -0.33191714 -0.24129397  0.03630225  0.24454425]\n",
      " [-0.0890375  -0.10089612  0.2585422  -0.08376014 -0.38503432]\n",
      " [-0.0035788   0.16476618  0.137451    0.2136015   0.25008228]\n",
      " [-0.21340203  0.43613905  0.31855863 -0.01855618  0.19252902]\n",
      " [ 0.45052126  0.18962872 -0.42054555  0.34917086  0.06491929]\n",
      " [ 0.15328503 -0.07487671 -0.29250816  0.3273226   0.14694282]]\n"
     ]
    }
   ],
   "source": [
    "print( double_layer_model.state_dict()['model.0.weight'].cpu().detach().numpy())\n",
    "plt.figure()\n",
    "plt.imshow(double_layer_model.sample(np.zeros(shape=(20,20))))\n",
    "plt.show()\n",
    "history = train_model(double_layer_model, train_loader, val_loader, epochs=2)\n",
    "print (double_layer_model.state_dict()['model.0.weight'].cpu().detach().numpy())\n",
    "\n",
    "# torch.save(double_layer_model.state_dict(), 'model_weights.pth')"
   ]
  },
  {
   "cell_type": "code",
   "execution_count": 35,
   "metadata": {},
   "outputs": [
    {
     "data": {
      "text/plain": [
       "array([[ True,  True,  True,  True,  True],\n",
       "       [ True,  True,  True,  True,  True],\n",
       "       [ True,  True,  True,  True,  True],\n",
       "       [ True,  True,  True,  True,  True],\n",
       "       [ True,  True,  True,  True,  True],\n",
       "       [ True,  True,  True,  True,  True],\n",
       "       [ True,  True,  True,  True,  True],\n",
       "       [ True,  True,  True,  True,  True],\n",
       "       [ True,  True,  True,  True,  True],\n",
       "       [ True,  True,  True,  True,  True],\n",
       "       [ True,  True,  True,  True,  True],\n",
       "       [ True,  True,  True,  True,  True],\n",
       "       [ True,  True,  True,  True,  True],\n",
       "       [ True,  True,  True,  True,  True],\n",
       "       [ True,  True,  True,  True,  True],\n",
       "       [ True,  True,  True,  True,  True],\n",
       "       [ True,  True,  True,  True,  True],\n",
       "       [ True,  True,  True,  True,  True],\n",
       "       [ True,  True,  True,  True,  True],\n",
       "       [ True,  True,  True,  True,  True],\n",
       "       [ True,  True,  True,  True,  True],\n",
       "       [ True,  True,  True,  True,  True],\n",
       "       [ True,  True,  True,  True,  True],\n",
       "       [ True,  True,  True,  True,  True],\n",
       "       [ True,  True,  True,  True,  True],\n",
       "       [ True,  True,  True,  True,  True],\n",
       "       [ True,  True,  True,  True,  True],\n",
       "       [ True,  True,  True,  True,  True],\n",
       "       [ True,  True,  True,  True,  True],\n",
       "       [ True,  True,  True,  True,  True],\n",
       "       [ True,  True,  True,  True,  True],\n",
       "       [ True,  True,  True,  True,  True],\n",
       "       [ True,  True,  True,  True,  True],\n",
       "       [ True,  True,  True,  True,  True],\n",
       "       [ True,  True,  True,  True,  True],\n",
       "       [ True,  True,  True,  True,  True],\n",
       "       [ True,  True,  True,  True,  True],\n",
       "       [ True,  True,  True,  True,  True],\n",
       "       [ True,  True,  True,  True,  True],\n",
       "       [ True,  True,  True,  True,  True]])"
      ]
     },
     "execution_count": 35,
     "metadata": {},
     "output_type": "execute_result"
    }
   ],
   "source": [
    "pw2 == ow2"
   ]
  },
  {
   "cell_type": "code",
   "execution_count": 90,
   "metadata": {},
   "outputs": [
    {
     "data": {
      "text/plain": [
       "tensor([[True, True, True, True, True],\n",
       "        [True, True, True, True, True],\n",
       "        [True, True, True, True, True],\n",
       "        [True, True, True, True, True],\n",
       "        [True, True, True, True, True],\n",
       "        [True, True, True, True, True],\n",
       "        [True, True, True, True, True],\n",
       "        [True, True, True, True, True],\n",
       "        [True, True, True, True, True],\n",
       "        [True, True, True, True, True],\n",
       "        [True, True, True, True, True],\n",
       "        [True, True, True, True, True],\n",
       "        [True, True, True, True, True],\n",
       "        [True, True, True, True, True],\n",
       "        [True, True, True, True, True],\n",
       "        [True, True, True, True, True],\n",
       "        [True, True, True, True, True],\n",
       "        [True, True, True, True, True],\n",
       "        [True, True, True, True, True],\n",
       "        [True, True, True, True, True],\n",
       "        [True, True, True, True, True],\n",
       "        [True, True, True, True, True],\n",
       "        [True, True, True, True, True],\n",
       "        [True, True, True, True, True],\n",
       "        [True, True, True, True, True],\n",
       "        [True, True, True, True, True],\n",
       "        [True, True, True, True, True],\n",
       "        [True, True, True, True, True],\n",
       "        [True, True, True, True, True],\n",
       "        [True, True, True, True, True],\n",
       "        [True, True, True, True, True],\n",
       "        [True, True, True, True, True],\n",
       "        [True, True, True, True, True],\n",
       "        [True, True, True, True, True],\n",
       "        [True, True, True, True, True],\n",
       "        [True, True, True, True, True],\n",
       "        [True, True, True, True, True],\n",
       "        [True, True, True, True, True],\n",
       "        [True, True, True, True, True],\n",
       "        [True, True, True, True, True]])"
      ]
     },
     "execution_count": 90,
     "metadata": {},
     "output_type": "execute_result"
    }
   ],
   "source": [
    "primory_weights['layer1.weight'] == output_weights['layer1.weight']"
   ]
  },
  {
   "cell_type": "code",
   "execution_count": 63,
   "metadata": {},
   "outputs": [
    {
     "data": {
      "text/plain": [
       "<All keys matched successfully>"
      ]
     },
     "execution_count": 63,
     "metadata": {},
     "output_type": "execute_result"
    }
   ],
   "source": [
    "single_layer_model.load_state_dict(\n",
    "    torch.load('model_weights.pth', map_location='cpu')   \n",
    ")"
   ]
  },
  {
   "cell_type": "code",
   "execution_count": 125,
   "metadata": {},
   "outputs": [
    {
     "name": "stderr",
     "output_type": "stream",
     "text": [
      "C:\\Users\\HAMI-PARS\\AppData\\Local\\Temp\\ipykernel_12632\\1757037348.py:75: DeprecationWarning: Conversion of an array with ndim > 0 to a scalar is deprecated, and will error in future. Ensure you extract a single element from your array before performing this operation. (Deprecated NumPy 1.25.)\n",
      "  blank[i, j] = y_hat.cpu().detach().numpy()\n"
     ]
    }
   ],
   "source": [
    "a = single_layer_model.sample(test_im)"
   ]
  },
  {
   "cell_type": "code",
   "execution_count": 126,
   "metadata": {},
   "outputs": [
    {
     "data": {
      "text/plain": [
       "<matplotlib.image.AxesImage at 0x2b841c76f00>"
      ]
     },
     "execution_count": 126,
     "metadata": {},
     "output_type": "execute_result"
    },
    {
     "data": {
      "image/png": "[encoded data removed]",
      "text/plain": [
       "<Figure size 640x480 with 1 Axes>"
      ]
     },
     "metadata": {},
     "output_type": "display_data"
    }
   ],
   "source": [
    "plt.imshow(a)"
   ]
  },
  {
   "cell_type": "markdown",
   "metadata": {},
   "source": [
    "## Junk code"
   ]
  },
  {
   "cell_type": "code",
   "execution_count": null,
   "metadata": {},
   "outputs": [],
   "source": [
    "im_size = 20\n",
    "MARGIN = 1\n",
    "single_layer_model.eval()\n",
    "\n",
    "test_X, test_y, big_im = image2xy(test_im, MARGIN, POSITIONAL, True)\n",
    "test_X_tensor = torch.tensor(test_X, dtype=torch.float32)\n",
    "\n",
    "for i in range(test_X.shape[0]):\n",
    "    test_X, test_y, big_im = image2xy(test_im, MARGIN, POSITIONAL, True)\n",
    "    test_X_tensor = torch.tensor(test_X, dtype=torch.float32)\n",
    "    test_x_tensor = test_X_tensor[i,:]\n",
    "    with torch.no_grad():\n",
    "        test_output = single_layer_model(test_x_tensor)\n",
    "    "
   ]
  },
  {
   "cell_type": "code",
   "execution_count": null,
   "metadata": {},
   "outputs": [
    {
     "data": {
      "text/plain": [
       "tensor([[0.5000],\n",
       "        [0.5000],\n",
       "        [0.5000],\n",
       "        [0.5000],\n",
       "        [0.5000],\n",
       "        [0.5000],\n",
       "        [0.5000],\n",
       "        [0.5000],\n",
       "        [0.5000],\n",
       "        [0.5000],\n",
       "        [0.5000],\n",
       "        [0.5000],\n",
       "        [0.5000],\n",
       "        [0.5000],\n",
       "        [0.5000],\n",
       "        [0.5000],\n",
       "        [0.5000],\n",
       "        [0.5000],\n",
       "        [0.5000],\n",
       "        [0.5000],\n",
       "        [0.5000],\n",
       "        [0.5000],\n",
       "        [0.5000],\n",
       "        [0.5000],\n",
       "        [0.5000],\n",
       "        [0.5000],\n",
       "        [0.5000],\n",
       "        [0.5000],\n",
       "        [0.5000],\n",
       "        [0.5000],\n",
       "        [0.5000],\n",
       "        [0.5000],\n",
       "        [0.5000],\n",
       "        [0.5000],\n",
       "        [0.5000],\n",
       "        [0.5000],\n",
       "        [0.5000],\n",
       "        [0.5000],\n",
       "        [0.5000],\n",
       "        [0.5000],\n",
       "        [0.5000],\n",
       "        [0.5000],\n",
       "        [0.5000],\n",
       "        [0.5000],\n",
       "        [0.5000],\n",
       "        [0.5000],\n",
       "        [0.5000],\n",
       "        [0.5000],\n",
       "        [0.5000],\n",
       "        [0.5000],\n",
       "        [0.5000],\n",
       "        [0.5000],\n",
       "        [0.5000],\n",
       "        [0.5000],\n",
       "        [0.5000],\n",
       "        [0.5000],\n",
       "        [0.5000],\n",
       "        [0.5000],\n",
       "        [0.5000],\n",
       "        [0.5000],\n",
       "        [0.5000],\n",
       "        [0.5000],\n",
       "        [0.5000],\n",
       "        [0.5000],\n",
       "        [0.5000],\n",
       "        [0.5000],\n",
       "        [0.5000],\n",
       "        [0.5000],\n",
       "        [0.5000],\n",
       "        [0.5000],\n",
       "        [0.5000],\n",
       "        [0.5000],\n",
       "        [0.5000],\n",
       "        [0.5000],\n",
       "        [0.5000],\n",
       "        [0.5000],\n",
       "        [0.5000],\n",
       "        [0.5000],\n",
       "        [0.5000],\n",
       "        [0.5000],\n",
       "        [0.5000],\n",
       "        [0.5000],\n",
       "        [0.5000],\n",
       "        [0.5000],\n",
       "        [0.5000],\n",
       "        [0.5000],\n",
       "        [0.5000],\n",
       "        [0.5000],\n",
       "        [0.5000],\n",
       "        [0.5000],\n",
       "        [0.5000],\n",
       "        [0.5000],\n",
       "        [0.5000],\n",
       "        [0.5000],\n",
       "        [0.5000],\n",
       "        [0.5000],\n",
       "        [0.5000],\n",
       "        [0.5000],\n",
       "        [0.5000],\n",
       "        [0.5000],\n",
       "        [0.5000],\n",
       "        [0.5000],\n",
       "        [0.5000],\n",
       "        [0.5000],\n",
       "        [0.5000],\n",
       "        [0.5000],\n",
       "        [0.5000],\n",
       "        [0.5000],\n",
       "        [0.5000],\n",
       "        [0.5000],\n",
       "        [0.5000],\n",
       "        [0.5000],\n",
       "        [0.5000],\n",
       "        [0.5000],\n",
       "        [0.5000],\n",
       "        [0.5000],\n",
       "        [0.5000],\n",
       "        [0.5000],\n",
       "        [0.5000],\n",
       "        [0.5000],\n",
       "        [0.5000],\n",
       "        [0.5000],\n",
       "        [0.5000],\n",
       "        [0.5000],\n",
       "        [0.5000],\n",
       "        [0.5000],\n",
       "        [0.5000],\n",
       "        [0.5000],\n",
       "        [0.5000],\n",
       "        [0.5000],\n",
       "        [0.5000],\n",
       "        [0.5000],\n",
       "        [0.5000],\n",
       "        [0.5000],\n",
       "        [0.5000],\n",
       "        [0.5000],\n",
       "        [0.5000],\n",
       "        [0.5000],\n",
       "        [0.5000],\n",
       "        [0.5000],\n",
       "        [0.5000],\n",
       "        [0.5000],\n",
       "        [0.5000],\n",
       "        [0.5000],\n",
       "        [0.5000],\n",
       "        [0.5000],\n",
       "        [0.5000],\n",
       "        [0.5000],\n",
       "        [0.5000],\n",
       "        [0.5000],\n",
       "        [0.5000],\n",
       "        [0.5000],\n",
       "        [0.5000],\n",
       "        [0.5000],\n",
       "        [0.5000],\n",
       "        [0.5000],\n",
       "        [0.5000],\n",
       "        [0.5000],\n",
       "        [0.5000],\n",
       "        [0.5000],\n",
       "        [0.5000],\n",
       "        [0.5000],\n",
       "        [0.5000],\n",
       "        [0.5000],\n",
       "        [0.5000],\n",
       "        [0.5000],\n",
       "        [0.5000],\n",
       "        [0.5000],\n",
       "        [0.5000],\n",
       "        [0.5000],\n",
       "        [0.5000],\n",
       "        [0.5000],\n",
       "        [0.5000],\n",
       "        [0.5000],\n",
       "        [0.5000],\n",
       "        [0.5000],\n",
       "        [0.5000],\n",
       "        [0.5000],\n",
       "        [0.5000],\n",
       "        [0.5000],\n",
       "        [0.5000],\n",
       "        [0.5000],\n",
       "        [0.5000],\n",
       "        [0.5000],\n",
       "        [0.5000],\n",
       "        [0.5000],\n",
       "        [0.5000],\n",
       "        [0.5000],\n",
       "        [0.5000],\n",
       "        [0.5000],\n",
       "        [0.5000],\n",
       "        [0.5000],\n",
       "        [0.5000],\n",
       "        [0.5000],\n",
       "        [0.5000],\n",
       "        [0.5000],\n",
       "        [0.5000],\n",
       "        [0.5000],\n",
       "        [0.5000],\n",
       "        [0.5000],\n",
       "        [0.5000],\n",
       "        [0.5000],\n",
       "        [0.5000],\n",
       "        [0.5000],\n",
       "        [0.5000],\n",
       "        [0.5000],\n",
       "        [0.5000],\n",
       "        [0.5000],\n",
       "        [0.5000],\n",
       "        [0.5000],\n",
       "        [0.5000],\n",
       "        [0.5000],\n",
       "        [0.5000],\n",
       "        [0.5000],\n",
       "        [0.5000],\n",
       "        [0.5000],\n",
       "        [0.5000],\n",
       "        [0.5000],\n",
       "        [0.5000],\n",
       "        [0.5000],\n",
       "        [0.5000],\n",
       "        [0.5000],\n",
       "        [0.5000],\n",
       "        [0.5000],\n",
       "        [0.5000],\n",
       "        [0.5000],\n",
       "        [0.5000],\n",
       "        [0.5000],\n",
       "        [0.5000],\n",
       "        [0.5000],\n",
       "        [0.5000],\n",
       "        [0.5000],\n",
       "        [0.5000],\n",
       "        [0.5000],\n",
       "        [0.5000],\n",
       "        [0.5000],\n",
       "        [0.5000],\n",
       "        [0.5000],\n",
       "        [0.5000],\n",
       "        [0.5000],\n",
       "        [0.5000],\n",
       "        [0.5000],\n",
       "        [0.5000],\n",
       "        [0.5000],\n",
       "        [0.5000],\n",
       "        [0.5000],\n",
       "        [0.5000],\n",
       "        [0.5000],\n",
       "        [0.5000],\n",
       "        [0.5000],\n",
       "        [0.5000],\n",
       "        [0.5000],\n",
       "        [0.5000],\n",
       "        [0.5000],\n",
       "        [0.5000],\n",
       "        [0.5000],\n",
       "        [0.5000],\n",
       "        [0.5000],\n",
       "        [0.5000],\n",
       "        [0.5000],\n",
       "        [0.5000],\n",
       "        [0.5000],\n",
       "        [0.5000],\n",
       "        [0.5000],\n",
       "        [0.5000],\n",
       "        [0.5000],\n",
       "        [0.5000],\n",
       "        [0.5000],\n",
       "        [0.5000],\n",
       "        [0.5000],\n",
       "        [0.5000],\n",
       "        [0.5000],\n",
       "        [0.5000],\n",
       "        [0.5000],\n",
       "        [0.5000],\n",
       "        [0.5000],\n",
       "        [0.5000],\n",
       "        [0.5000],\n",
       "        [0.5000],\n",
       "        [0.5000],\n",
       "        [0.5000],\n",
       "        [0.5000],\n",
       "        [0.5000],\n",
       "        [0.5000],\n",
       "        [0.5000],\n",
       "        [0.5000],\n",
       "        [0.5000],\n",
       "        [0.5000],\n",
       "        [0.5000],\n",
       "        [0.5000],\n",
       "        [0.5000],\n",
       "        [0.5000],\n",
       "        [0.5000],\n",
       "        [0.5000],\n",
       "        [0.5000],\n",
       "        [0.5000],\n",
       "        [0.5000],\n",
       "        [0.5000],\n",
       "        [0.5000],\n",
       "        [0.5000],\n",
       "        [0.5000],\n",
       "        [0.5000],\n",
       "        [0.5000],\n",
       "        [0.5000],\n",
       "        [0.5000],\n",
       "        [0.5000],\n",
       "        [0.5000],\n",
       "        [0.5000],\n",
       "        [0.5000],\n",
       "        [0.5000],\n",
       "        [0.5000],\n",
       "        [0.5000],\n",
       "        [0.5000],\n",
       "        [0.5000],\n",
       "        [0.5000],\n",
       "        [0.5000],\n",
       "        [0.5000],\n",
       "        [0.5000],\n",
       "        [0.5000],\n",
       "        [0.5000],\n",
       "        [0.5000],\n",
       "        [0.5000],\n",
       "        [0.5000],\n",
       "        [0.5000],\n",
       "        [0.5000],\n",
       "        [0.5000],\n",
       "        [0.5000],\n",
       "        [0.5000],\n",
       "        [0.5000],\n",
       "        [0.5000],\n",
       "        [0.5000],\n",
       "        [0.5000],\n",
       "        [0.5000],\n",
       "        [0.5000],\n",
       "        [0.5000],\n",
       "        [0.5000],\n",
       "        [0.5000],\n",
       "        [0.5000],\n",
       "        [0.5000],\n",
       "        [0.5000],\n",
       "        [0.5000],\n",
       "        [0.5000],\n",
       "        [0.5000],\n",
       "        [0.5000],\n",
       "        [0.5000],\n",
       "        [0.5000],\n",
       "        [0.5000],\n",
       "        [0.5000],\n",
       "        [0.5000],\n",
       "        [0.5000],\n",
       "        [0.5000],\n",
       "        [0.5000],\n",
       "        [0.5000],\n",
       "        [0.5000],\n",
       "        [0.5000],\n",
       "        [0.5000],\n",
       "        [0.5000],\n",
       "        [0.5000],\n",
       "        [0.5000],\n",
       "        [0.5000],\n",
       "        [0.5000],\n",
       "        [0.5000],\n",
       "        [0.5000],\n",
       "        [0.5000],\n",
       "        [0.5000],\n",
       "        [0.5000],\n",
       "        [0.5000],\n",
       "        [0.5000],\n",
       "        [0.5000],\n",
       "        [0.5000],\n",
       "        [0.5000],\n",
       "        [0.5000],\n",
       "        [0.5000],\n",
       "        [0.5000],\n",
       "        [0.5000],\n",
       "        [0.5000],\n",
       "        [0.5000],\n",
       "        [0.5000],\n",
       "        [0.5000],\n",
       "        [0.5000],\n",
       "        [0.5000],\n",
       "        [0.5000],\n",
       "        [0.5000],\n",
       "        [0.5000],\n",
       "        [0.5000],\n",
       "        [0.5000],\n",
       "        [0.5000],\n",
       "        [0.5000],\n",
       "        [0.5000],\n",
       "        [0.5000],\n",
       "        [0.5000],\n",
       "        [0.5000],\n",
       "        [0.5000],\n",
       "        [0.5000],\n",
       "        [0.5000],\n",
       "        [0.5000],\n",
       "        [0.5000],\n",
       "        [0.5000],\n",
       "        [0.5000],\n",
       "        [0.5000]])"
      ]
     },
     "execution_count": 79,
     "metadata": {},
     "output_type": "execute_result"
    }
   ],
   "source": [
    "out_im = test_output"
   ]
  },
  {
   "cell_type": "code",
   "execution_count": 19,
   "metadata": {},
   "outputs": [],
   "source": [
    "import imageio"
   ]
  },
  {
   "cell_type": "code",
   "execution_count": 20,
   "metadata": {},
   "outputs": [
    {
     "name": "stderr",
     "output_type": "stream",
     "text": [
      "C:\\Users\\HAMI-PARS\\AppData\\Local\\Temp\\ipykernel_12632\\4043898666.py:2: DeprecationWarning: Starting with ImageIO v3 the behavior of this function will switch to that of iio.v3.imread. To keep the current behavior (and make this warning disappear) use `import imageio.v2 as imageio` or call `imageio.v2.imread` directly.\n",
      "  test_im = imageio.imread(test_dir)\n"
     ]
    },
    {
     "data": {
      "text/plain": [
       "<matplotlib.image.AxesImage at 0x2b851aa7890>"
      ]
     },
     "execution_count": 20,
     "metadata": {},
     "output_type": "execute_result"
    },
    {
     "data": {
      "image/png": "[encoded data removed]",
      "text/plain": [
       "<Figure size 640x480 with 1 Axes>"
      ]
     },
     "metadata": {},
     "output_type": "display_data"
    }
   ],
   "source": [
    "test_dir = os.path.join(small_dir, l_train[50],f_train[50])\n",
    "test_im = imageio.imread(test_dir)\n",
    "plt.imshow(test_im)"
   ]
  },
  {
   "cell_type": "code",
   "execution_count": 43,
   "metadata": {},
   "outputs": [
    {
     "name": "stdout",
     "output_type": "stream",
     "text": [
      "the shape of the image is (20, 20)\n",
      "the shape of the blank is (21, 21)\n"
     ]
    },
    {
     "name": "stderr",
     "output_type": "stream",
     "text": [
      "C:\\Users\\HAMI-PARS\\AppData\\Local\\Temp\\ipykernel_12632\\3105447353.py:21: DeprecationWarning: Conversion of an array with ndim > 0 to a scalar is deprecated, and will error in future. Ensure you extract a single element from your array before performing this operation. (Deprecated NumPy 1.25.)\n",
      "  blank[i, j] = y_hat.cpu().detach().numpy()\n"
     ]
    },
    {
     "data": {
      "text/plain": [
       "Text(0.5, 1.0, 'Sample')"
      ]
     },
     "execution_count": 43,
     "metadata": {},
     "output_type": "execute_result"
    },
    {
     "data": {
      "image/png": "[encoded data removed]",
      "text/plain": [
       "<Figure size 640x480 with 1 Axes>"
      ]
     },
     "metadata": {},
     "output_type": "display_data"
    },
    {
     "data": {
      "image/png": "[encoded data removed]",
      "text/plain": [
       "<Figure size 640x480 with 1 Axes>"
      ]
     },
     "metadata": {},
     "output_type": "display_data"
    }
   ],
   "source": []
  },
  {
   "cell_type": "code",
   "execution_count": 44,
   "metadata": {},
   "outputs": [
    {
     "data": {
      "text/plain": [
       "0.5"
      ]
     },
     "execution_count": 44,
     "metadata": {},
     "output_type": "execute_result"
    }
   ],
   "source": [
    "np.max(blank)"
   ]
  },
  {
   "cell_type": "code",
   "execution_count": null,
   "metadata": {},
   "outputs": [
    {
     "data": {
      "text/plain": [
       "<matplotlib.image.AxesImage at 0x217e3003410>"
      ]
     },
     "execution_count": 45,
     "metadata": {},
     "output_type": "execute_result"
    },
    {
     "data": {
      "image/png": "[encoded data removed]",
      "text/plain": [
       "<Figure size 640x480 with 1 Axes>"
      ]
     },
     "metadata": {},
     "output_type": "display_data"
    }
   ],
   "source": [
    "margin = 3\n",
    "shape_im = test_im.shape\n",
    "new_im = np.zeros(shape=(shape_im[0]+margin, shape_im[1]+margin))\n",
    "new_im[margin:, margin:] = test_im\n",
    "plt.imshow(new_im)"
   ]
  },
  {
   "cell_type": "code",
   "execution_count": null,
   "metadata": {},
   "outputs": [
    {
     "name": "stdout",
     "output_type": "stream",
     "text": [
      "(400, 17)\n",
      "(400,)\n"
     ]
    }
   ],
   "source": [
    "idx = np.arange(margin,new_im.shape[0])\n",
    "positional = True\n",
    "\n",
    "X_list = []\n",
    "y_list = []\n",
    "\n",
    "for i in idx:\n",
    "    for j in idx:\n",
    "        \n",
    "        x = new_im[i-margin:i+1, j-margin:j+1].flatten()\n",
    "        y = x[-1]\n",
    "        x = x[:-1]\n",
    "        if positional:\n",
    "            ax_y = (i-margin)/idx.shape[0]\n",
    "            ax_x = (j-margin)/idx.shape[0]            \n",
    "            x = np.append(x, [ax_x, ax_y])\n",
    "        \n",
    "        X_list.append(x)\n",
    "        y_list.append(y)\n",
    "\n",
    "X_list = np.array(X_list)\n",
    "y_list = np.array(y_list)\n",
    "\n",
    "print(X_list.shape)\n",
    "print(y_list.shape)"
   ]
  },
  {
   "cell_type": "code",
   "execution_count": null,
   "metadata": {},
   "outputs": [],
   "source": []
  },
  {
   "cell_type": "code",
   "execution_count": null,
   "metadata": {},
   "outputs": [
    {
     "name": "stderr",
     "output_type": "stream",
     "text": [
      "C:\\Users\\HAMI-PARS\\AppData\\Local\\Temp\\ipykernel_1964\\2171434557.py:17: DeprecationWarning: Starting with ImageIO v3 the behavior of this function will switch to that of iio.v3.imread. To keep the current behavior (and make this warning disappear) use `import imageio.v2 as imageio` or call `imageio.v2.imread` directly.\n",
      "  image = imageio.imread(path)\n"
     ]
    },
    {
     "data": {
      "text/plain": [
       "(400, 10)"
      ]
     },
     "execution_count": 67,
     "metadata": {},
     "output_type": "execute_result"
    }
   ],
   "source": [
    "a,b = image_to_xy(test_dir, 2)\n",
    "a.shape"
   ]
  },
  {
   "cell_type": "code",
   "execution_count": null,
   "metadata": {},
   "outputs": [],
   "source": []
  },
  {
   "cell_type": "code",
   "execution_count": null,
   "metadata": {},
   "outputs": [
    {
     "name": "stderr",
     "output_type": "stream",
     "text": [
      "Epoch 1/4:  39%|███▉      | 99/255 [00:05<00:08, 18.93it/s, train loss:1.0476]\n"
     ]
    },
    {
     "name": "stdout",
     "output_type": "stream",
     "text": [
      "\n",
      "\n",
      "!!!!!!!! Training has been stopped !!!!!!!!\n"
     ]
    }
   ],
   "source": [
    "def train_model(model, train_loader, val_loader=None, n_jobs=None, epochs=5):\n",
    "    EPOCHS = epochs\n",
    "    if n_jobs:\n",
    "        torch.set_num_threads(n_jobs) # Set number of core to be engaged\n",
    "\n",
    "    # criterion = nn.NLLLoss()\n",
    "    criterion = SingleNLLLoss()\n",
    "    optimizer = optim.SGD(model.parameters(), lr=0.01)\n",
    "\n",
    "    train_loss_list = []\n",
    "    train_iteration_loss_list = []\n",
    "    val_loss_list = []\n",
    "\n",
    "    try:\n",
    "        for epoch in range(EPOCHS):\n",
    "            model.train()\n",
    "            \n",
    "            t_loss = 0 \n",
    "            # Train loop\n",
    "            train_iter = iter(train_loader)\n",
    "            pbar = trange(len(train_iter),desc=f'Epoch {epoch+1}/{EPOCHS}')\n",
    "            for i in pbar:\n",
    "                X_batch, y_batch = next(train_iter)\n",
    "                X_batch = X_batch.to(device)\n",
    "                y_batch = y_batch.to(device)\n",
    "\n",
    "                y_batch_hat = model(X_batch)\n",
    "                loss = criterion(y_batch_hat, y_batch)\n",
    "                optimizer.zero_grad()\n",
    "                loss.backward()\n",
    "                optimizer.step()\n",
    "                t_loss += loss.item()\n",
    "                train_iteration_loss_list.append(t_loss)\n",
    "                pbar.set_postfix_str(f'train loss:{t_loss/(i+1):.4f}')\n",
    "\n",
    "            t_loss *= 1/len(train_loader)\n",
    "            train_loss_list.append(t_loss)\n",
    "\n",
    "            if val_loader:\n",
    "                # Validation\n",
    "                model.eval()\n",
    "\n",
    "                with torch.no_grad():\n",
    "                    v_loss = 0\n",
    "                    for batch in val_loader:\n",
    "                        X_val, y_val = batch\n",
    "                        X_val = X_val.to(device)\n",
    "                        y_val = y_val.to(device)\n",
    "\n",
    "                        y_val_hat = model(X_val)\n",
    "                        loss = criterion(y_val_hat, y_val)\n",
    "                        v_loss += loss.item()\n",
    "                    val_loss_list.append(v_loss/len(val_loader))\n",
    "                print(f'validation loss:{val_loss_list[-1]:.4f}')\n",
    "\n",
    "        return train_loss_list, val_loss_list, train_iteration_loss_list\n",
    "    except KeyboardInterrupt:\n",
    "        print('\\n\\n!!!!!!!! Training has been stopped !!!!!!!!')\n",
    "        return train_loss_list, val_loss_list, train_iteration_loss_list\n",
    "\n",
    "\n",
    "\n",
    "history = train_model(single_layer_model, train_loader, val_loader, epochs=4)\n",
    "\n"
   ]
  }
 ],
 "metadata": {
  "kernelspec": {
   "display_name": "base",
   "language": "python",
   "name": "python3"
  },
  "language_info": {
   "codemirror_mode": {
    "name": "ipython",
    "version": 3
   },
   "file_extension": ".py",
   "mimetype": "text/x-python",
   "name": "python",
   "nbconvert_exporter": "python",
   "pygments_lexer": "ipython3",
   "version": "3.12.7"
  }
 },
 "nbformat": 4,
 "nbformat_minor": 2
}
